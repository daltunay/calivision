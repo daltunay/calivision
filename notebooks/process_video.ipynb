{
 "cells": [
  {
   "cell_type": "markdown",
   "metadata": {},
   "source": [
    "# Video Processing"
   ]
  },
  {
   "cell_type": "markdown",
   "metadata": {},
   "source": [
    "## Setup"
   ]
  },
  {
   "cell_type": "code",
   "execution_count": 1,
   "metadata": {},
   "outputs": [],
   "source": [
    "%load_ext autoreload\n",
    "%autoreload 2"
   ]
  },
  {
   "cell_type": "code",
   "execution_count": 2,
   "metadata": {},
   "outputs": [
    {
     "name": "stdout",
     "output_type": "stream",
     "text": [
      "current working directory: c:\\Users\\daniel\\Projects\\bwpest\n"
     ]
    }
   ],
   "source": [
    "import os\n",
    "\n",
    "os.chdir(\"..\")\n",
    "\n",
    "print(f\"current working directory: {os.getcwd()}\")"
   ]
  },
  {
   "cell_type": "markdown",
   "metadata": {},
   "source": [
    "### Imports"
   ]
  },
  {
   "cell_type": "code",
   "execution_count": 3,
   "metadata": {},
   "outputs": [],
   "source": [
    "import mediapipe as mp\n",
    "from src.video_processing import PoseEstimator, VideoProcessor"
   ]
  },
  {
   "cell_type": "markdown",
   "metadata": {},
   "source": [
    "## Body Pose Estimation"
   ]
  },
  {
   "cell_type": "markdown",
   "metadata": {},
   "source": [
    "### PoseEstimator"
   ]
  },
  {
   "cell_type": "code",
   "execution_count": 4,
   "metadata": {},
   "outputs": [
    {
     "name": "stderr",
     "output_type": "stream",
     "text": [
      "2023-08-18 15:57:16,033 - INFO - Initializing PoseEstimator: model_complexity=1\n"
     ]
    }
   ],
   "source": [
    "pose_estimator = PoseEstimator(\n",
    "    model_complexity=1,  # 0, 1, 2\n",
    "    min_detection_confidence=0.5,\n",
    "    min_tracking_confidence=0.5,\n",
    ")"
   ]
  },
  {
   "cell_type": "markdown",
   "metadata": {},
   "source": [
    "### VideoProcessor"
   ]
  },
  {
   "cell_type": "markdown",
   "metadata": {},
   "source": [
    "#### Using webcam"
   ]
  },
  {
   "cell_type": "code",
   "execution_count": 5,
   "metadata": {},
   "outputs": [],
   "source": [
    "VIDEO_INPUT_WEBCAM = 1 #  Webcam source, either 0 or 1\n",
    "\n",
    "video_processor = VideoProcessor(\n",
    "    pose_estimator=pose_estimator,\n",
    "    webcam=VIDEO_INPUT_WEBCAM,\n",
    ")"
   ]
  },
  {
   "cell_type": "code",
   "execution_count": 6,
   "metadata": {},
   "outputs": [
    {
     "name": "stderr",
     "output_type": "stream",
     "text": [
      "2023-08-18 15:57:16,206 - INFO - Initializing VideoProcessor for input: webcam (source 1)\n",
      "[IN PROGRESS] Body pose estimation: webcam (source 1): 65it [00:04, 13.19it/s]\n",
      "2023-08-18 15:57:22,142 - INFO - Body pose estimation completed (65 frames, 4.33s).\n"
     ]
    }
   ],
   "source": [
    "video_processor.process_video(\n",
    "    show=True,\n",
    "    height=800,\n",
    "    width=None,\n",
    ") # PRESS Esc. TO EXIT"
   ]
  },
  {
   "cell_type": "code",
   "execution_count": 7,
   "metadata": {},
   "outputs": [
    {
     "name": "stdout",
     "output_type": "stream",
     "text": [
      "video_processor.frame_count=65\n",
      "video_processor.fps=15\n"
     ]
    }
   ],
   "source": [
    "print(f\"{video_processor.frame_count=}\")\n",
    "print(f\"{video_processor.fps=}\")"
   ]
  },
  {
   "cell_type": "code",
   "execution_count": 8,
   "metadata": {},
   "outputs": [
    {
     "name": "stdout",
     "output_type": "stream",
     "text": [
      "Landmark coordinates extracted from:\n",
      "1.\tNOSE\n",
      "2.\tLEFT_EYE_INNER\n",
      "3.\tLEFT_EYE\n",
      "4.\tLEFT_EYE_OUTER\n",
      "5.\tRIGHT_EYE_INNER\n",
      "6.\tRIGHT_EYE\n",
      "7.\tRIGHT_EYE_OUTER\n",
      "8.\tLEFT_EAR\n",
      "9.\tRIGHT_EAR\n",
      "10.\tMOUTH_LEFT\n",
      "11.\tMOUTH_RIGHT\n",
      "12.\tLEFT_SHOULDER\n",
      "13.\tRIGHT_SHOULDER\n",
      "14.\tLEFT_ELBOW\n",
      "15.\tRIGHT_ELBOW\n",
      "16.\tLEFT_WRIST\n",
      "17.\tRIGHT_WRIST\n",
      "18.\tLEFT_PINKY\n",
      "19.\tRIGHT_PINKY\n",
      "20.\tLEFT_INDEX\n",
      "21.\tRIGHT_INDEX\n",
      "22.\tLEFT_THUMB\n",
      "23.\tRIGHT_THUMB\n",
      "24.\tLEFT_HIP\n",
      "25.\tRIGHT_HIP\n",
      "26.\tLEFT_KNEE\n",
      "27.\tRIGHT_KNEE\n",
      "28.\tLEFT_ANKLE\n",
      "29.\tRIGHT_ANKLE\n",
      "30.\tLEFT_HEEL\n",
      "31.\tRIGHT_HEEL\n",
      "32.\tLEFT_FOOT_INDEX\n",
      "33.\tRIGHT_FOOT_INDEX\n"
     ]
    }
   ],
   "source": [
    "print(\"Landmark coordinates extracted from:\")\n",
    "\n",
    "for i, (landmark_coordinates, landmark_ref) in enumerate(\n",
    "    zip(video_processor.landmarks_series, mp.solutions.pose.PoseLandmark)\n",
    "):\n",
    "    print(f\"{i+1}.\\t{landmark_ref._name_}\")\n",
    "    # print(landmark_coordinates)  # acces coordinates"
   ]
  },
  {
   "cell_type": "markdown",
   "metadata": {},
   "source": [
    "#### Using local video"
   ]
  },
  {
   "cell_type": "code",
   "execution_count": 9,
   "metadata": {},
   "outputs": [],
   "source": [
    "VIDEO_INPUT_PATH = r\"dataset\\raw\\daniel\\pullups\\VID_20221015_170933_Trim.mp4\"\n",
    "\n",
    "video_processor = VideoProcessor(\n",
    "    pose_estimator=pose_estimator,\n",
    "    path=VIDEO_INPUT_PATH,\n",
    ")"
   ]
  },
  {
   "cell_type": "code",
   "execution_count": 10,
   "metadata": {},
   "outputs": [
    {
     "name": "stderr",
     "output_type": "stream",
     "text": [
      "2023-08-18 15:57:22,513 - INFO - Initializing VideoProcessor for input: dataset\\raw\\daniel\\pullups\\VID_20221015_170933_Trim.mp4\n",
      "[IN PROGRESS] Body pose estimation: VID_20221015_170933_Trim.mp4: 100%|██████████| 451/451 [00:19<00:00, 22.98it/s]\n",
      "2023-08-18 15:57:42,258 - INFO - Body pose estimation completed (450 / 450 frames, 15.00 / 15.00s).\n"
     ]
    }
   ],
   "source": [
    "video_processor.process_video(\n",
    "    show=True,\n",
    "    height=800,  # resize by either height or width\n",
    "    width=None\n",
    ")"
   ]
  },
  {
   "cell_type": "code",
   "execution_count": 11,
   "metadata": {},
   "outputs": [
    {
     "name": "stdout",
     "output_type": "stream",
     "text": [
      "video_processor.frame_count=450\n",
      "video_processor.fps=30\n"
     ]
    }
   ],
   "source": [
    "print(f\"{video_processor.frame_count=}\")\n",
    "print(f\"{video_processor.fps=}\")"
   ]
  },
  {
   "cell_type": "code",
   "execution_count": 12,
   "metadata": {},
   "outputs": [
    {
     "name": "stdout",
     "output_type": "stream",
     "text": [
      "Landmark coordinates extracted from:\n",
      "1.\tNOSE\n",
      "2.\tLEFT_EYE_INNER\n",
      "3.\tLEFT_EYE\n",
      "4.\tLEFT_EYE_OUTER\n",
      "5.\tRIGHT_EYE_INNER\n",
      "6.\tRIGHT_EYE\n",
      "7.\tRIGHT_EYE_OUTER\n",
      "8.\tLEFT_EAR\n",
      "9.\tRIGHT_EAR\n",
      "10.\tMOUTH_LEFT\n",
      "11.\tMOUTH_RIGHT\n",
      "12.\tLEFT_SHOULDER\n",
      "13.\tRIGHT_SHOULDER\n",
      "14.\tLEFT_ELBOW\n",
      "15.\tRIGHT_ELBOW\n",
      "16.\tLEFT_WRIST\n",
      "17.\tRIGHT_WRIST\n",
      "18.\tLEFT_PINKY\n",
      "19.\tRIGHT_PINKY\n",
      "20.\tLEFT_INDEX\n",
      "21.\tRIGHT_INDEX\n",
      "22.\tLEFT_THUMB\n",
      "23.\tRIGHT_THUMB\n",
      "24.\tLEFT_HIP\n",
      "25.\tRIGHT_HIP\n",
      "26.\tLEFT_KNEE\n",
      "27.\tRIGHT_KNEE\n",
      "28.\tLEFT_ANKLE\n",
      "29.\tRIGHT_ANKLE\n",
      "30.\tLEFT_HEEL\n",
      "31.\tRIGHT_HEEL\n",
      "32.\tLEFT_FOOT_INDEX\n",
      "33.\tRIGHT_FOOT_INDEX\n"
     ]
    }
   ],
   "source": [
    "print(\"Landmark coordinates extracted from:\")\n",
    "\n",
    "for i, (landmark_coordinates, landmark_ref) in enumerate(\n",
    "    zip(video_processor.landmarks_series, mp.solutions.pose.PoseLandmark)\n",
    "):\n",
    "    print(f\"{i+1}.\\t{landmark_ref._name_}\")\n",
    "    # print(landmark_coordinates)  # acces coordinates"
   ]
  },
  {
   "cell_type": "markdown",
   "metadata": {},
   "source": [
    "## Export"
   ]
  },
  {
   "cell_type": "code",
   "execution_count": 18,
   "metadata": {},
   "outputs": [
    {
     "name": "stdout",
     "output_type": "stream",
     "text": [
      "VideoProcessor data exported to notebooks\\cache\\video_processor.pickle\n"
     ]
    }
   ],
   "source": [
    "import pickle\n",
    "\n",
    "file_path = os.path.join(\"notebooks\", \"cache\", \"video_processor.pickle\")\n",
    "\n",
    "# Save the data using pickle\n",
    "with open(file_path, 'wb') as file:\n",
    "    pickle.dump([video_processor.landmarks_series, video_processor.fps], file)\n",
    "\n",
    "print(f\"VideoProcessor data exported to {file_path}\")\n"
   ]
  },
  {
   "cell_type": "code",
   "execution_count": null,
   "metadata": {},
   "outputs": [],
   "source": []
  }
 ],
 "metadata": {
  "kernelspec": {
   "display_name": "bwpest-tkGkchNP-py3.11",
   "language": "python",
   "name": "python3"
  },
  "language_info": {
   "codemirror_mode": {
    "name": "ipython",
    "version": 3
   },
   "file_extension": ".py",
   "mimetype": "text/x-python",
   "name": "python",
   "nbconvert_exporter": "python",
   "pygments_lexer": "ipython3",
   "version": "3.11.4"
  },
  "orig_nbformat": 4
 },
 "nbformat": 4,
 "nbformat_minor": 2
}
