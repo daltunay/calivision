{
 "cells": [
  {
   "cell_type": "markdown",
   "metadata": {},
   "source": [
    "## Setup"
   ]
  },
  {
   "cell_type": "code",
   "execution_count": 2,
   "metadata": {},
   "outputs": [],
   "source": [
    "%load_ext autoreload\n",
    "%autoreload 2"
   ]
  },
  {
   "cell_type": "code",
   "execution_count": 3,
   "metadata": {},
   "outputs": [],
   "source": [
    "import os\n",
    "\n",
    "os.chdir(\"..\")"
   ]
  },
  {
   "cell_type": "markdown",
   "metadata": {},
   "source": [
    "### Imports"
   ]
  },
  {
   "cell_type": "code",
   "execution_count": 4,
   "metadata": {},
   "outputs": [],
   "source": [
    "from src.video_processing import PoseEstimator, VideoProcessor\n",
    "from src.features import JointSeries, AngleSeries, FourierSeries\n",
    "from src.models import kNNClassifier, LSTMClassifier"
   ]
  },
  {
   "cell_type": "markdown",
   "metadata": {},
   "source": [
    "## Load model"
   ]
  },
  {
   "cell_type": "code",
   "execution_count": 5,
   "metadata": {},
   "outputs": [
    {
     "name": "stdout",
     "output_type": "stream",
     "text": [
      "Loaded kNN model from models\\daniel_knn_angles_model.pth\n"
     ]
    }
   ],
   "source": [
    "import torch\n",
    "\n",
    "file_path = os.path.join(\"models\", \"daniel_knn_angles_model.pth\")\n",
    "\n",
    "knn = torch.load(file_path)\n",
    "\n",
    "print(f\"Loaded kNN model from {file_path}\")"
   ]
  },
  {
   "cell_type": "markdown",
   "metadata": {},
   "source": [
    "## Record video via webcam"
   ]
  },
  {
   "cell_type": "code",
   "execution_count": 6,
   "metadata": {},
   "outputs": [
    {
     "name": "stderr",
     "output_type": "stream",
     "text": [
      "2023-08-18 18:09:36,101 - INFO - Initializing PoseEstimator: model_complexity=2\n",
      "2023-08-18 18:09:36,126 - INFO - Initializing VideoProcessor for input: webcam (source 1)\n",
      "[DONE] Body pose estimation: webcam (source 1): : 96it [00:09,  9.76it/s]     \n",
      "2023-08-18 18:09:47,049 - INFO - Body pose estimation completed (96 frames, 6.40s).\n"
     ]
    }
   ],
   "source": [
    "pose_estimator = PoseEstimator(\n",
    "    model_complexity=2,\n",
    "    min_detection_confidence=0.5,\n",
    "    min_tracking_confidence=0.5,\n",
    ")\n",
    "\n",
    "VIDEO_INPUT_WEBCAM = 1\n",
    "\n",
    "video_processor = VideoProcessor(\n",
    "    pose_estimator=pose_estimator,\n",
    "    webcam=VIDEO_INPUT_WEBCAM,\n",
    ")\n",
    "\n",
    "video_processor.process_video(\n",
    "    show=True,\n",
    "    height=800,\n",
    "    width=None,\n",
    ")"
   ]
  },
  {
   "cell_type": "markdown",
   "metadata": {},
   "source": [
    "## Extract features"
   ]
  },
  {
   "cell_type": "code",
   "execution_count": 7,
   "metadata": {},
   "outputs": [
    {
     "name": "stderr",
     "output_type": "stream",
     "text": [
      "2023-08-18 18:09:47,243 - INFO - Extracting joint coordinates from landmarks\n",
      "2023-08-18 18:09:47,296 - INFO - Calculating angles from joint coordinates\n",
      "2023-08-18 18:09:51,059 - INFO - Computing Fourier transform of angle time series\n"
     ]
    }
   ],
   "source": [
    "joint_series = JointSeries(landmarks_series=video_processor.landmarks_series, fps=video_processor.fps)\n",
    "angle_series = AngleSeries(joint_series=joint_series)\n",
    "fourier_series = FourierSeries(angle_series=angle_series)\n"
   ]
  },
  {
   "cell_type": "markdown",
   "metadata": {},
   "source": [
    "## Model prediction"
   ]
  },
  {
   "cell_type": "code",
   "execution_count": 8,
   "metadata": {},
   "outputs": [
    {
     "name": "stderr",
     "output_type": "stream",
     "text": [
      "2023-08-18 18:09:54,130 - INFO - Predicting class labels for input data: 1 sample(s)\n"
     ]
    },
    {
     "data": {
      "text/plain": [
       "'pullups'"
      ]
     },
     "execution_count": 8,
     "metadata": {},
     "output_type": "execute_result"
    }
   ],
   "source": [
    "knn.predict(angle_series)"
   ]
  },
  {
   "cell_type": "code",
   "execution_count": null,
   "metadata": {},
   "outputs": [],
   "source": [
    "lstm = LSTMClassifier(\n",
    "    num_classes=len(set(y_train)),\n",
    "    input_size=len(X_train[0].columns),\n",
    "    hidden_size=32,\n",
    "    num_layers=2,\n",
    "    num_epochs=10,\n",
    "    batch_size=8,\n",
    "    learning_rate=0.001,\n",
    ")"
   ]
  }
 ],
 "metadata": {
  "kernelspec": {
   "display_name": "bwpest-tkGkchNP-py3.11",
   "language": "python",
   "name": "python3"
  },
  "language_info": {
   "codemirror_mode": {
    "name": "ipython",
    "version": 3
   },
   "file_extension": ".py",
   "mimetype": "text/x-python",
   "name": "python",
   "nbconvert_exporter": "python",
   "pygments_lexer": "ipython3",
   "version": "3.11.4"
  },
  "orig_nbformat": 4
 },
 "nbformat": 4,
 "nbformat_minor": 2
}
