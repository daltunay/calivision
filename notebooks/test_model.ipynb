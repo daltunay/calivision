{
 "cells": [
  {
   "cell_type": "markdown",
   "metadata": {},
   "source": [
    "## Setup"
   ]
  },
  {
   "cell_type": "code",
   "execution_count": 2,
   "metadata": {},
   "outputs": [],
   "source": [
    "%load_ext autoreload\n",
    "%autoreload 2"
   ]
  },
  {
   "cell_type": "code",
   "execution_count": 3,
   "metadata": {},
   "outputs": [],
   "source": [
    "import os\n",
    "\n",
    "os.chdir(\"..\")"
   ]
  },
  {
   "cell_type": "markdown",
   "metadata": {},
   "source": [
    "### Imports"
   ]
  },
  {
   "cell_type": "code",
   "execution_count": 4,
   "metadata": {},
   "outputs": [],
   "source": [
    "from src.video_processing import PoseEstimator, VideoProcessor\n",
    "from src.features import JointSeries, AngleSeries, FourierSeries\n",
    "from src.models import kNNClassifier, LSTMClassifier"
   ]
  },
  {
   "cell_type": "markdown",
   "metadata": {},
   "source": [
    "## Load model"
   ]
  },
  {
   "cell_type": "code",
   "execution_count": 5,
   "metadata": {},
   "outputs": [
    {
     "name": "stdout",
     "output_type": "stream",
     "text": [
      "Loaded kNN model from models/UCF101_knn_angles_model.pth\n"
     ]
    }
   ],
   "source": [
    "import torch\n",
    "\n",
    "file_path = os.path.join(\"models\", \"UCF101_knn_angles_model.pth\")\n",
    "\n",
    "knn = torch.load(file_path)\n",
    "\n",
    "print(f\"Loaded kNN model from {file_path}\")"
   ]
  },
  {
   "cell_type": "markdown",
   "metadata": {},
   "source": [
    "## Record video via webcam"
   ]
  },
  {
   "cell_type": "code",
   "execution_count": 6,
   "metadata": {},
   "outputs": [
    {
     "name": "stderr",
     "output_type": "stream",
     "text": [
      "2023-08-28 21:47:17,386 - INFO - Fitting kNN classifier to training data: 448 sample(s), 5 unique labels\n",
      "2023-08-28 21:47:17,386 - INFO - Predicting class labels for input data: 113 sample(s)\n",
      "2023-08-28 21:51:54,101 - INFO - Fitting kNN classifier to training data: 448 sample(s), 5 unique labels\n",
      "2023-08-28 21:51:54,101 - INFO - Predicting class labels for input data: 113 sample(s)\n"
     ]
    },
    {
     "name": "stdout",
     "output_type": "stream",
     "text": [
      "k=15, epsilon=1e-06, Accuracy: 0.2743\n"
     ]
    },
    {
     "name": "stderr",
     "output_type": "stream",
     "text": [
      "2023-08-28 21:56:29,073 - INFO - Fitting kNN classifier to training data: 448 sample(s), 5 unique labels\n",
      "2023-08-28 21:56:29,073 - INFO - Predicting class labels for input data: 113 sample(s)\n"
     ]
    },
    {
     "name": "stdout",
     "output_type": "stream",
     "text": [
      "k=15, epsilon=0.0001, Accuracy: 0.2743\n"
     ]
    },
    {
     "name": "stderr",
     "output_type": "stream",
     "text": [
      "2023-08-28 22:01:06,191 - INFO - Fitting kNN classifier to training data: 448 sample(s), 5 unique labels\n",
      "2023-08-28 22:01:06,192 - INFO - Predicting class labels for input data: 113 sample(s)\n"
     ]
    },
    {
     "name": "stdout",
     "output_type": "stream",
     "text": [
      "k=15, epsilon=0.001, Accuracy: 0.2743\n"
     ]
    },
    {
     "name": "stderr",
     "output_type": "stream",
     "text": [
      "2023-08-28 22:05:43,051 - INFO - Fitting kNN classifier to training data: 448 sample(s), 5 unique labels\n",
      "2023-08-28 22:05:43,052 - INFO - Predicting class labels for input data: 113 sample(s)\n"
     ]
    },
    {
     "name": "stdout",
     "output_type": "stream",
     "text": [
      "k=15, epsilon=0.01, Accuracy: 0.2743\n",
      "k=15, epsilon=0.1, Accuracy: 0.2743\n",
      "Best accuracy: 0.2743 with k=15 and epsilon=1e-06\n"
     ]
    }
   ],
   "source": [
    "from sklearn.model_selection import train_test_split\n",
    "from sklearn.metrics import accuracy_score\n",
    "\n",
    "# Assuming you have your knn class defined as KNN\n",
    "\n",
    "# Split the data into training and testing sets\n",
    "train_data, test_data, train_labels, test_labels = train_test_split(knn.train_data, knn.train_labels, test_size=0.2, random_state=42)\n",
    "\n",
    "# Define a range of values for k and epsilon that you want to try\n",
    "# k_values = [3, 5, 7, 9, 11, 13, 15]\n",
    "k_values = [15]\n",
    "epsilon_values = [1e-6, 1e-4, 1e-3, 1e-2, 1e-1]\n",
    "\n",
    "best_accuracy = 0.0\n",
    "best_k = None\n",
    "best_epsilon = None\n",
    "\n",
    "for k in k_values:\n",
    "    for epsilon in epsilon_values:\n",
    "        knn.k = k\n",
    "        knn.metric.epsilon = epsilon\n",
    "        knn.fit(train_data, train_labels)\n",
    "        \n",
    "        predictions = knn.predict(test_data)\n",
    "        accuracy = accuracy_score(test_labels, predictions)\n",
    "        \n",
    "        print(f'k={k}, epsilon={epsilon}, Accuracy: {accuracy:.4f}')\n",
    "        \n",
    "        if accuracy > best_accuracy:\n",
    "            best_accuracy = accuracy\n",
    "            best_k = k\n",
    "            best_epsilon = epsilon\n",
    "\n",
    "print(f'Best accuracy: {best_accuracy:.4f} with k={best_k} and epsilon={best_epsilon}')\n"
   ]
  },
  {
   "cell_type": "code",
   "execution_count": null,
   "metadata": {},
   "outputs": [],
   "source": [
    "pose_estimator = PoseEstimator(\n",
    "    model_complexity=2,\n",
    "    min_detection_confidence=0.5,\n",
    "    min_tracking_confidence=0.5,\n",
    ")\n",
    "\n",
    "VIDEO_INPUT_WEBCAM = 1\n",
    "\n",
    "video_processor = VideoProcessor(\n",
    "    pose_estimator=pose_estimator,\n",
    "    webcam=VIDEO_INPUT_WEBCAM,\n",
    ")\n",
    "\n",
    "video_processor.process_video(\n",
    "    show=True,\n",
    "    height=800,\n",
    "    width=None,\n",
    ")"
   ]
  },
  {
   "cell_type": "markdown",
   "metadata": {},
   "source": [
    "## Extract features"
   ]
  },
  {
   "cell_type": "code",
   "execution_count": null,
   "metadata": {},
   "outputs": [],
   "source": [
    "joint_series = JointSeries(landmarks_series=video_processor.landmarks_series, fps=video_processor.fps)\n",
    "angle_series = AngleSeries(joint_series=joint_series)\n",
    "fourier_series = FourierSeries(angle_series=angle_series)\n"
   ]
  },
  {
   "cell_type": "markdown",
   "metadata": {},
   "source": [
    "## Model prediction"
   ]
  },
  {
   "cell_type": "code",
   "execution_count": null,
   "metadata": {},
   "outputs": [],
   "source": [
    "knn.predict(angle_series)"
   ]
  },
  {
   "cell_type": "code",
   "execution_count": null,
   "metadata": {},
   "outputs": [],
   "source": [
    "lstm = LSTMClassifier(\n",
    "    num_classes=len(set(y_train)),\n",
    "    input_size=len(X_train[0].columns),\n",
    "    hidden_size=32,\n",
    "    num_layers=2,\n",
    "    num_epochs=10,\n",
    "    batch_size=8,\n",
    "    learning_rate=0.001,\n",
    ")"
   ]
  }
 ],
 "metadata": {
  "kernelspec": {
   "display_name": "bwpest-tkGkchNP-py3.11",
   "language": "python",
   "name": "python3"
  },
  "language_info": {
   "codemirror_mode": {
    "name": "ipython",
    "version": 3
   },
   "file_extension": ".py",
   "mimetype": "text/x-python",
   "name": "python",
   "nbconvert_exporter": "python",
   "pygments_lexer": "ipython3",
   "version": "3.11.3"
  },
  "orig_nbformat": 4
 },
 "nbformat": 4,
 "nbformat_minor": 2
}
